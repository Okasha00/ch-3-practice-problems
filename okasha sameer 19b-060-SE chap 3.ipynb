{
 "cells": [
  {
   "cell_type": "markdown",
   "metadata": {},
   "source": [
    "# okasha sameer 19B-060-SE ch 3 practice problems"
   ]
  },
  {
   "cell_type": "code",
   "execution_count": 1,
   "metadata": {},
   "outputs": [
    {
     "name": "stdout",
     "output_type": "stream",
     "text": [
      "Enter the temperature in degree fahreniet: 44\n",
      "The temperature in degree celsius is :  6.666666666666667\n"
     ]
    }
   ],
   "source": [
    "# 3.1\n",
    "f = eval(input(\"Enter the temperature in degree fahreniet: \"))\n",
    "celsius = 5/9 * (f-32)\n",
    "print(\"The temperature in degree celsius is : \",celsius)"
   ]
  },
  {
   "cell_type": "code",
   "execution_count": 2,
   "metadata": {},
   "outputs": [
    {
     "name": "stdout",
     "output_type": "stream",
     "text": [
      "Enter the age: 65\n",
      "You can get your pension benfits\n"
     ]
    }
   ],
   "source": [
    "# 3.2(a)\n",
    "age = eval(input(\"Enter the age: \"))\n",
    "if age > 62:\n",
    "    print(\"You can get your pension benfits\")"
   ]
  },
  {
   "cell_type": "code",
   "execution_count": 93,
   "metadata": {},
   "outputs": [
    {
     "name": "stdout",
     "output_type": "stream",
     "text": [
      "Enter the name of baseball player: aaraon\n"
     ]
    }
   ],
   "source": [
    "# part b\n",
    "list = ['Musial', 'Aaraon', 'Williams', 'Gehrig', 'Ruth']\n",
    "name = str(input(\"Enter the name of baseball player: \"))\n",
    "if name in list:\n",
    "    print(\"one of the top 5 baseball player ever!\")"
   ]
  },
  {
   "cell_type": "code",
   "execution_count": 10,
   "metadata": {},
   "outputs": [
    {
     "name": "stdout",
     "output_type": "stream",
     "text": [
      "Enter the number of string you want to add: 4\n",
      "string: desktop\n",
      "string: top\n",
      "string: stop\n",
      "string: post\n",
      "['desktop', 'top', 'stop', 'post']\n",
      "['desktop', 'top', 'stop', 'post']\n"
     ]
    }
   ],
   "source": [
    "# 3.5 \n",
    "lst = []\n",
    "x = int(input(\"Enter the number of string you want to add: \"))\n",
    "for i in range (0,x):\n",
    "    y = input(\"string: \")\n",
    "    lst.append(y)\n",
    "print(lst)\n",
    "print(lst, sep = \"\\n\")\n",
    "    "
   ]
  },
  {
   "cell_type": "code",
   "execution_count": 9,
   "metadata": {},
   "outputs": [
    {
     "name": "stdout",
     "output_type": "stream",
     "text": [
      "0\n",
      "1\n",
      "2\n",
      "3\n",
      "4\n",
      "5\n",
      "6\n",
      "7\n",
      "8\n",
      "9\n"
     ]
    }
   ],
   "source": [
    "# 3.7(a)\n",
    "for i in range(0,10):\n",
    "    print(i)\n"
   ]
  },
  {
   "cell_type": "code",
   "execution_count": 11,
   "metadata": {},
   "outputs": [
    {
     "name": "stdout",
     "output_type": "stream",
     "text": [
      "0\n",
      "1\n"
     ]
    }
   ],
   "source": [
    "# 3.7(b)\n",
    "for i in range(2):\n",
    "    print(i)"
   ]
  },
  {
   "cell_type": "code",
   "execution_count": 12,
   "metadata": {},
   "outputs": [
    {
     "name": "stdout",
     "output_type": "stream",
     "text": [
      "0\n",
      "1\n",
      "2\n",
      "3\n",
      "4\n",
      "5\n",
      "6\n",
      "7\n",
      "8\n",
      "9\n",
      "10\n",
      "11\n",
      "12\n"
     ]
    }
   ],
   "source": [
    "# 3.7(a)\n",
    "for i in range(0,13):\n",
    "    print(i)"
   ]
  },
  {
   "cell_type": "code",
   "execution_count": 13,
   "metadata": {},
   "outputs": [
    {
     "name": "stdout",
     "output_type": "stream",
     "text": [
      "0\n",
      "2\n",
      "4\n",
      "6\n",
      "8\n"
     ]
    }
   ],
   "source": [
    "# 3.7(b)\n",
    "for i in range(0, 9, 2):\n",
    "    print(i)"
   ]
  },
  {
   "cell_type": "code",
   "execution_count": 14,
   "metadata": {},
   "outputs": [
    {
     "name": "stdout",
     "output_type": "stream",
     "text": [
      "0\n",
      "2\n",
      "4\n",
      "6\n",
      "8\n",
      "10\n",
      "12\n",
      "14\n",
      "16\n",
      "18\n",
      "20\n",
      "22\n"
     ]
    }
   ],
   "source": [
    "# 3.7(c)\n",
    "for i in range(0, 24, 2):\n",
    "    print(i)"
   ]
  },
  {
   "cell_type": "code",
   "execution_count": 15,
   "metadata": {},
   "outputs": [
    {
     "name": "stdout",
     "output_type": "stream",
     "text": [
      "3\n",
      "5\n",
      "7\n",
      "9\n",
      "11\n"
     ]
    }
   ],
   "source": [
    "# 3.7(d)\n",
    "for i in range(3, 12, 2):\n",
    "    print(i)"
   ]
  },
  {
   "cell_type": "code",
   "execution_count": 16,
   "metadata": {},
   "outputs": [
    {
     "name": "stdout",
     "output_type": "stream",
     "text": [
      "0\n",
      "1\n",
      "2\n",
      "3\n",
      "4\n",
      "5\n",
      "6\n",
      "7\n",
      "8\n"
     ]
    }
   ],
   "source": [
    "# 3.6(a)\n",
    "for i in range(0,9):\n",
    "    print(i)\n"
   ]
  },
  {
   "cell_type": "code",
   "execution_count": 20,
   "metadata": {},
   "outputs": [
    {
     "data": {
      "text/plain": [
       "6.283185307179586"
      ]
     },
     "execution_count": 20,
     "metadata": {},
     "output_type": "execute_result"
    }
   ],
   "source": [
    "# 3.8\n",
    "from math import pi \n",
    "def perimeter(r):\n",
    "    result = 2 * pi *r\n",
    "    return result\n",
    "\n",
    "perimeter(1)\n"
   ]
  },
  {
   "cell_type": "code",
   "execution_count": 5,
   "metadata": {},
   "outputs": [
    {
     "data": {
      "text/plain": [
       "16.5"
      ]
     },
     "execution_count": 5,
     "metadata": {},
     "output_type": "execute_result"
    }
   ],
   "source": [
    "# 3.9 \n",
    "def average(num1, num2):\n",
    "    result = (num1 + num2) / 2\n",
    "    return result\n",
    "average(22,11)\n"
   ]
  },
  {
   "cell_type": "code",
   "execution_count": 7,
   "metadata": {},
   "outputs": [
    {
     "name": "stdout",
     "output_type": "stream",
     "text": [
      "Enter the text: crypt\n"
     ]
    },
    {
     "data": {
      "text/plain": [
       "True"
      ]
     },
     "execution_count": 7,
     "metadata": {},
     "output_type": "execute_result"
    }
   ],
   "source": [
    "# 3.10\n",
    "def noVowel(text):\n",
    "    for i in text:\n",
    "        if i in \"aeiouAEIOU\":\n",
    "            return False\n",
    "    return True\n",
    "text = str(input(\"Enter the text: \"))\n",
    "noVowel(text)\n",
    "    "
   ]
  },
  {
   "cell_type": "code",
   "execution_count": 19,
   "metadata": {},
   "outputs": [
    {
     "data": {
      "text/plain": [
       "True"
      ]
     },
     "execution_count": 19,
     "metadata": {},
     "output_type": "execute_result"
    }
   ],
   "source": [
    "# 3.11(a)\n",
    "list = [8, 0, -2, 4, -6, 10]\n",
    "def allEven(integers):\n",
    "    for i in integers:\n",
    "        if [i % 2 == 0]:\n",
    "               return True\n",
    "    return False    \n",
    "allEven(list)\n",
    "             "
   ]
  },
  {
   "cell_type": "code",
   "execution_count": 1,
   "metadata": {},
   "outputs": [
    {
     "data": {
      "text/plain": [
       "True"
      ]
     },
     "execution_count": 1,
     "metadata": {},
     "output_type": "execute_result"
    }
   ],
   "source": [
    "# 3.11(b)\n",
    "list = [8, 0, -1, 4, -6, 10]\n",
    "def allEven(integers):\n",
    "    for i in integers:\n",
    "        if [i % 2 ==0]:\n",
    "            return True\n",
    "        return False\n",
    "allEven(list)    "
   ]
  },
  {
   "cell_type": "code",
   "execution_count": 8,
   "metadata": {},
   "outputs": [
    {
     "name": "stdout",
     "output_type": "stream",
     "text": [
      "-1\n",
      "-3\n",
      "-9\n"
     ]
    }
   ],
   "source": [
    "# 3.12\n",
    "list = [4, 0, -1, -3, 6, -9]\n",
    "def negatives(list):\n",
    "    for i in list:\n",
    "        if i < 0:\n",
    "            print(i)\n",
    "    return\n",
    "negatives(list)\n",
    "        "
   ]
  },
  {
   "cell_type": "markdown",
   "metadata": {},
   "source": [
    "# Assginments statements"
   ]
  },
  {
   "cell_type": "code",
   "execution_count": 26,
   "metadata": {},
   "outputs": [
    {
     "name": "stdout",
     "output_type": "stream",
     "text": [
      "Enter square or cube:  3\n"
     ]
    },
    {
     "data": {
      "text/plain": [
       "27"
      ]
     },
     "execution_count": 26,
     "metadata": {},
     "output_type": "execute_result"
    }
   ],
   "source": [
    "s = input('Enter square or cube:  ')\n",
    "if s == 'square': \n",
    "    def f(x):\n",
    "        return x*x\n",
    "else:\n",
    "    def f(x):\n",
    "        return x*x*x\n",
    "f(3)"
   ]
  },
  {
   "cell_type": "code",
   "execution_count": 27,
   "metadata": {},
   "outputs": [
    {
     "name": "stdout",
     "output_type": "stream",
     "text": [
      "Help on built-in function len in module builtins:\n",
      "\n",
      "len(obj, /)\n",
      "    Return the number of items in a container.\n",
      "\n"
     ]
    }
   ],
   "source": [
    "help(len)"
   ]
  },
  {
   "cell_type": "code",
   "execution_count": 29,
   "metadata": {},
   "outputs": [
    {
     "name": "stdout",
     "output_type": "stream",
     "text": [
      "Help on function f in module __main__:\n",
      "\n",
      "f(x)\n",
      "\n"
     ]
    }
   ],
   "source": [
    "help(f)"
   ]
  },
  {
   "cell_type": "code",
   "execution_count": 39,
   "metadata": {},
   "outputs": [
    {
     "name": "stdout",
     "output_type": "stream",
     "text": [
      "Help on function average in module __main__:\n",
      "\n",
      "average(num1, num2)\n",
      "    # 3.9\n",
      "\n"
     ]
    }
   ],
   "source": [
    "# 3.13 \n",
    "def average(num1, num2):\n",
    "    result = (num1 + num2) / 2\n",
    "    return result\n",
    "average(22,11)\n",
    "help(average)"
   ]
  },
  {
   "cell_type": "code",
   "execution_count": 55,
   "metadata": {},
   "outputs": [
    {
     "name": "stdout",
     "output_type": "stream",
     "text": [
      "[3, 8, 5]\n",
      "[3, 8, 5]\n"
     ]
    }
   ],
   "source": [
    "a = [3, 4, 5]\n",
    "b=a\n",
    "b[1]= 8\n",
    "print(b)\n",
    "print(a)\n",
    "\n",
    "\n",
    "\n"
   ]
  },
  {
   "cell_type": "code",
   "execution_count": 60,
   "metadata": {},
   "outputs": [
    {
     "name": "stdout",
     "output_type": "stream",
     "text": [
      "[5, 6, 7]\n",
      "[5, 6, 7]\n",
      "3\n"
     ]
    }
   ],
   "source": [
    "# 3.14\n",
    "a = [5, 6, 7]\n",
    "print(a)\n",
    "b = a\n",
    "print(b)\n",
    "a = 3\n",
    "print(a)\n"
   ]
  },
  {
   "cell_type": "code",
   "execution_count": 63,
   "metadata": {},
   "outputs": [
    {
     "name": "stdout",
     "output_type": "stream",
     "text": [
      "['pak', 'aus', 'ind', 'rsa']\n"
     ]
    }
   ],
   "source": [
    "# 3.15 \n",
    "def swapFL():\n",
    "    lst = ['aus', 'pak', 'ind', 'rsa']\n",
    "    lst[0],lst[1] = lst[1],lst[0]\n",
    "    print(lst)\n",
    "    return\n",
    "swapFL()"
   ]
  },
  {
   "cell_type": "code",
   "execution_count": 80,
   "metadata": {},
   "outputs": [
    {
     "name": "stdout",
     "output_type": "stream",
     "text": [
      "8\n",
      "hello\n",
      "hello world\n",
      "2\n",
      "x = 5\n"
     ]
    }
   ],
   "source": [
    "# 3.17(a)\n",
    "x = eval('2*(3+1)')\n",
    "print(x)\n",
    "# b\n",
    "y = eval(\"'hello'\")\n",
    "print(y)\n",
    "# c \n",
    "z = eval(\"'hello'+' '+'world'\")\n",
    "print(z)\n",
    "# d\n",
    "a = eval(\"'ASCII'.count('I')\")\n",
    "print(a)\n",
    "# e\n",
    "b = eval(\"'x = 5'\")\n",
    "print(b)\n",
    "\n",
    "\n",
    "           \n",
    "           "
   ]
  },
  {
   "cell_type": "code",
   "execution_count": 91,
   "metadata": {},
   "outputs": [
    {
     "name": "stdout",
     "output_type": "stream",
     "text": [
      "ok\n",
      "ok\n"
     ]
    }
   ],
   "source": [
    "# 3.18\n",
    "a = 3\n",
    "b = 4\n",
    "c = 5\n",
    "#(a)\n",
    "if a < b:\n",
    "    print(\"ok\")\n",
    "    \n",
    "#(b)\n",
    "if c < b:\n",
    "    print(\"oK\")\n",
    "    \n",
    "#(c)\n",
    "if (a + b) == c:\n",
    "    print(\"ok\")\n",
    "          \n",
    "#(d)\n",
    "if ((a**2) + (b**2)) == (c**2) :\n",
    "    print(\"ok\")\n",
    "    \n",
    "    "
   ]
  },
  {
   "cell_type": "code",
   "execution_count": 94,
   "metadata": {},
   "outputs": [
    {
     "name": "stdout",
     "output_type": "stream",
     "text": [
      "NOT OK\n",
      "NOT OK\n"
     ]
    }
   ],
   "source": [
    "# Ex 3.19\n",
    "a = 3\n",
    "b = 4\n",
    "c = 5\n",
    "# part a\n",
    "if a < b:\n",
    "    print(\"NOT OK\")\n",
    "\n",
    "# part b\n",
    "if c < b:\n",
    "    print(\"NOT OK\")\n",
    "\n",
    "# part c\n",
    "if (a + b) == c:\n",
    "    print(\"NOT OK\")\n",
    "\n",
    "# part d\n",
    "if ((a**2) + (b**2)) == (c**2):\n",
    "    print(\"NOT OK\")"
   ]
  },
  {
   "cell_type": "code",
   "execution_count": 95,
   "metadata": {},
   "outputs": [
    {
     "name": "stdout",
     "output_type": "stream",
     "text": [
      "Jan\n",
      "Feb\n",
      "Mar\n"
     ]
    }
   ],
   "source": [
    "# Ex 3.20\n",
    "lst = [\"January\", \"February\", \"March\"]\n",
    "for i in lst:\n",
    "    print(i[:3])"
   ]
  },
  {
   "cell_type": "code",
   "execution_count": 96,
   "metadata": {},
   "outputs": [
    {
     "name": "stdout",
     "output_type": "stream",
     "text": [
      "2\n",
      "4\n",
      "6\n",
      "8\n"
     ]
    }
   ],
   "source": [
    "# Ex 3.21\n",
    "lst = [2, 3, 4, 5, 6, 7, 8, 9]\n",
    "for i in lst:\n",
    "    if (i % 2 == 0):\n",
    "        print(i)"
   ]
  },
  {
   "cell_type": "code",
   "execution_count": 97,
   "metadata": {},
   "outputs": [
    {
     "name": "stdout",
     "output_type": "stream",
     "text": [
      "4\n",
      "8\n"
     ]
    }
   ],
   "source": [
    "# Ex 3.22\n",
    "lst = [2, 3, 4, 5, 6, 7, 8, 9]\n",
    "for i in lst:\n",
    "    if ((i**2) % 8 == 0):\n",
    "        print(i)"
   ]
  },
  {
   "cell_type": "code",
   "execution_count": 99,
   "metadata": {},
   "outputs": [
    {
     "name": "stdout",
     "output_type": "stream",
     "text": [
      "0  1  "
     ]
    }
   ],
   "source": [
    "# Ex 3.23\n",
    "# part a\n",
    "for i in range(0, 2):\n",
    "    print(i, end = \"  \" )"
   ]
  },
  {
   "cell_type": "code",
   "execution_count": 100,
   "metadata": {},
   "outputs": [
    {
     "name": "stdout",
     "output_type": "stream",
     "text": [
      "0  "
     ]
    }
   ],
   "source": [
    "# part b\n",
    "for i in range(0,1):\n",
    "    print(i, end = \"  \" )"
   ]
  },
  {
   "cell_type": "code",
   "execution_count": 101,
   "metadata": {},
   "outputs": [
    {
     "name": "stdout",
     "output_type": "stream",
     "text": [
      "3  4  5  6  "
     ]
    }
   ],
   "source": [
    "# part c\n",
    "for i in range(3, 7):\n",
    "    print(i, end = \"  \" )"
   ]
  },
  {
   "cell_type": "code",
   "execution_count": 102,
   "metadata": {},
   "outputs": [
    {
     "name": "stdout",
     "output_type": "stream",
     "text": [
      "1  "
     ]
    }
   ],
   "source": [
    "# part d\n",
    "for i in range(1,2):\n",
    "    print(i, end = \"  \" )"
   ]
  },
  {
   "cell_type": "code",
   "execution_count": 103,
   "metadata": {},
   "outputs": [
    {
     "name": "stdout",
     "output_type": "stream",
     "text": [
      "0  3  "
     ]
    }
   ],
   "source": [
    "# part e\n",
    "for i in range(0, 4, 3):\n",
    "    print(i, end = \"  \" )"
   ]
  },
  {
   "cell_type": "code",
   "execution_count": 104,
   "metadata": {},
   "outputs": [
    {
     "name": "stdout",
     "output_type": "stream",
     "text": [
      "Enter the number you want to add to list: 3\n",
      "Enter the text to list: okasha\n",
      "Enter the text to list: sameer\n",
      "Enter the text to list: khan\n",
      "['okasha', 'sameer', 'khan']\n",
      "['okasha', 'sameer', 'khan']\n"
     ]
    }
   ],
   "source": [
    "# Ex 3.24\n",
    "n = int(input(\"Enter the number you want to add to list: \"))\n",
    "list = []\n",
    "for i in range(0,n):\n",
    "    text = str(input(\"Enter the text to list: \"))\n",
    "    list.append(text)\n",
    "print(list)\n",
    "\n",
    "for a in list:\n",
    "    if a == \"secret\":\n",
    "        list.remove(\"secret\")\n",
    "print(list)"
   ]
  },
  {
   "cell_type": "code",
   "execution_count": 106,
   "metadata": {},
   "outputs": [
    {
     "name": "stdout",
     "output_type": "stream",
     "text": [
      "Enter the positive Number: 4\n",
      "0\n",
      "4\n",
      "8\n",
      "12\n"
     ]
    }
   ],
   "source": [
    "# Ex 3.27\n",
    "n = int(input(\"Enter the positive Number: \"))\n",
    "for i in range(0, 4):\n",
    "    result = n * i\n",
    "    print(result)"
   ]
  },
  {
   "cell_type": "code",
   "execution_count": 107,
   "metadata": {},
   "outputs": [
    {
     "name": "stdout",
     "output_type": "stream",
     "text": [
      "Enter the positive Number: 2\n",
      "1\n",
      "2\n"
     ]
    }
   ],
   "source": [
    "# Ex 3.29\n",
    "n = int(input(\"Enter the positive Number: \"))\n",
    "for i in range(1, n+1):\n",
    "    if (n % i == 0):\n",
    "        print(i)"
   ]
  },
  {
   "cell_type": "code",
   "execution_count": 113,
   "metadata": {},
   "outputs": [
    {
     "name": "stdout",
     "output_type": "stream",
     "text": [
      "Enter the number: 4.5\n",
      "Enter the number: 3\n",
      "Enter the number: 3\n",
      "Enter the number: 3.5\n",
      "Equal\n"
     ]
    }
   ],
   "source": [
    "# Ex 3.30\n",
    "num1 = eval(input(\"Enter the number: \"))\n",
    "num2 = eval(input(\"Enter the number: \"))\n",
    "num3 = eval(input(\"Enter the number: \"))\n",
    "num4 = eval(input(\"Enter the number: \"))\n",
    "average = (num1 + num2 + num3) / 3\n",
    "if average == num4:\n",
    "    print(\"Equal\")"
   ]
  },
  {
   "cell_type": "code",
   "execution_count": null,
   "metadata": {},
   "outputs": [],
   "source": []
  }
 ],
 "metadata": {
  "kernelspec": {
   "display_name": "Python 3",
   "language": "python",
   "name": "python3"
  },
  "language_info": {
   "codemirror_mode": {
    "name": "ipython",
    "version": 3
   },
   "file_extension": ".py",
   "mimetype": "text/x-python",
   "name": "python",
   "nbconvert_exporter": "python",
   "pygments_lexer": "ipython3",
   "version": "3.7.4"
  }
 },
 "nbformat": 4,
 "nbformat_minor": 2
}
